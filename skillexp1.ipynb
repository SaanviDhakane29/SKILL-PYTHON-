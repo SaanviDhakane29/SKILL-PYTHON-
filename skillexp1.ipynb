{
  "nbformat": 4,
  "nbformat_minor": 0,
  "metadata": {
    "colab": {
      "provenance": [],
      "mount_file_id": "1WHpK_guNUyGcWd3futsWhWMmRCo8D3Xj",
      "authorship_tag": "ABX9TyO2COv6Kp5Bx6kpaUnqiBuz",
      "include_colab_link": true
    },
    "kernelspec": {
      "name": "python3",
      "display_name": "Python 3"
    },
    "language_info": {
      "name": "python"
    }
  },
  "cells": [
    {
      "cell_type": "markdown",
      "metadata": {
        "id": "view-in-github",
        "colab_type": "text"
      },
      "source": [
        "<a href=\"https://colab.research.google.com/github/SaanviDhakane29/SKILL-PYTHON-/blob/main/skillexp1.ipynb\" target=\"_parent\"><img src=\"https://colab.research.google.com/assets/colab-badge.svg\" alt=\"Open In Colab\"/></a>"
      ]
    },
    {
      "cell_type": "code",
      "source": [
        "##loading and merging two datasets\n",
        "\n",
        "from google.colab import drive\n",
        "drive.mount('/content/drive')"
      ],
      "metadata": {
        "colab": {
          "base_uri": "https://localhost:8080/"
        },
        "id": "wggznNHEmSXY",
        "outputId": "655a40dd-2e6e-43c7-e409-a74549c688a5"
      },
      "execution_count": null,
      "outputs": [
        {
          "output_type": "stream",
          "name": "stdout",
          "text": [
            "Drive already mounted at /content/drive; to attempt to forcibly remount, call drive.mount(\"/content/drive\", force_remount=True).\n"
          ]
        }
      ]
    },
    {
      "cell_type": "code",
      "source": [
        "import pandas as pd\n",
        "data1=pd.read_csv('/content/drive/MyDrive/tested.csv')\n",
        "data2=pd.read_csv('/content/drive/MyDrive/passengerlist.csv')\n",
        "print(data1)\n",
        "print(data2)"
      ],
      "metadata": {
        "colab": {
          "base_uri": "https://localhost:8080/"
        },
        "id": "_ENIbxe6sUHv",
        "outputId": "2ef6b31c-2529-480b-9985-bb21d3e914b0"
      },
      "execution_count": null,
      "outputs": [
        {
          "output_type": "stream",
          "name": "stdout",
          "text": [
            "     PassengerId  Survived  Pclass  \\\n",
            "0            892         0       3   \n",
            "1            893         1       3   \n",
            "2            894         0       2   \n",
            "3            895         0       3   \n",
            "4            896         1       3   \n",
            "..           ...       ...     ...   \n",
            "413         1305         0       3   \n",
            "414         1306         1       1   \n",
            "415         1307         0       3   \n",
            "416         1308         0       3   \n",
            "417         1309         0       3   \n",
            "\n",
            "                                             Name     Sex   Age  SibSp  Parch  \\\n",
            "0                                Kelly, Mr. James    male  34.5      0      0   \n",
            "1                Wilkes, Mrs. James (Ellen Needs)  female  47.0      1      0   \n",
            "2                       Myles, Mr. Thomas Francis    male  62.0      0      0   \n",
            "3                                Wirz, Mr. Albert    male  27.0      0      0   \n",
            "4    Hirvonen, Mrs. Alexander (Helga E Lindqvist)  female  22.0      1      1   \n",
            "..                                            ...     ...   ...    ...    ...   \n",
            "413                            Spector, Mr. Woolf    male   NaN      0      0   \n",
            "414                  Oliva y Ocana, Dona. Fermina  female  39.0      0      0   \n",
            "415                  Saether, Mr. Simon Sivertsen    male  38.5      0      0   \n",
            "416                           Ware, Mr. Frederick    male   NaN      0      0   \n",
            "417                      Peter, Master. Michael J    male   NaN      1      1   \n",
            "\n",
            "                 Ticket      Fare Cabin Embarked  \n",
            "0                330911    7.8292   NaN        Q  \n",
            "1                363272    7.0000   NaN        S  \n",
            "2                240276    9.6875   NaN        Q  \n",
            "3                315154    8.6625   NaN        S  \n",
            "4               3101298   12.2875   NaN        S  \n",
            "..                  ...       ...   ...      ...  \n",
            "413           A.5. 3236    8.0500   NaN        S  \n",
            "414            PC 17758  108.9000  C105        C  \n",
            "415  SOTON/O.Q. 3101262    7.2500   NaN        S  \n",
            "416              359309    8.0500   NaN        S  \n",
            "417                2668   22.3583   NaN        C  \n",
            "\n",
            "[418 rows x 12 columns]\n",
            "     PassengerId  Country             Firstname  Lastname Sex  Age Category  \\\n",
            "0              1   Sweden           ARVID KALLE     AADLI   M   62        P   \n",
            "1              2  Estonia                   LEA   AALISTE   F   22        C   \n",
            "2              3  Estonia                  AIRI   AAVASTE   F   21        C   \n",
            "3              4   Sweden                  JURI     AAVIK   M   53        C   \n",
            "4              5   Sweden       BRITTA ELISABET  AHLSTROM   F   55        P   \n",
            "..           ...      ...                   ...       ...  ..  ...      ...   \n",
            "984          985   Sweden  ANNA INGRID BIRGITTA    OSTROM   F   60        P   \n",
            "985          986   Sweden          ELMAR MIKAEL       OUN   M   34        P   \n",
            "986          987   Sweden                   ENN   QUNAPUU   M   77        P   \n",
            "987          988   Sweden                    LY   GUNAPUU   F   87        P   \n",
            "988          989   Sweden                  CARL    OVBERG   M   42        P   \n",
            "\n",
            "     Survived  \n",
            "0           0  \n",
            "1           0  \n",
            "2           0  \n",
            "3           0  \n",
            "4           0  \n",
            "..        ...  \n",
            "984         0  \n",
            "985         1  \n",
            "986         0  \n",
            "987         0  \n",
            "988         1  \n",
            "\n",
            "[989 rows x 8 columns]\n"
          ]
        }
      ]
    },
    {
      "cell_type": "code",
      "source": [
        "print(data1.head())\n",
        "print(data2.head())"
      ],
      "metadata": {
        "colab": {
          "base_uri": "https://localhost:8080/"
        },
        "id": "wVriKkaptDJF",
        "outputId": "3aee0098-7086-4546-a6cf-b6e8b2635fc8"
      },
      "execution_count": null,
      "outputs": [
        {
          "output_type": "stream",
          "name": "stdout",
          "text": [
            "   PassengerId  Survived  Pclass  \\\n",
            "0          892         0       3   \n",
            "1          893         1       3   \n",
            "2          894         0       2   \n",
            "3          895         0       3   \n",
            "4          896         1       3   \n",
            "\n",
            "                                           Name     Sex   Age  SibSp  Parch  \\\n",
            "0                              Kelly, Mr. James    male  34.5      0      0   \n",
            "1              Wilkes, Mrs. James (Ellen Needs)  female  47.0      1      0   \n",
            "2                     Myles, Mr. Thomas Francis    male  62.0      0      0   \n",
            "3                              Wirz, Mr. Albert    male  27.0      0      0   \n",
            "4  Hirvonen, Mrs. Alexander (Helga E Lindqvist)  female  22.0      1      1   \n",
            "\n",
            "    Ticket     Fare Cabin Embarked  \n",
            "0   330911   7.8292   NaN        Q  \n",
            "1   363272   7.0000   NaN        S  \n",
            "2   240276   9.6875   NaN        Q  \n",
            "3   315154   8.6625   NaN        S  \n",
            "4  3101298  12.2875   NaN        S  \n",
            "   PassengerId  Country        Firstname  Lastname Sex  Age Category  Survived\n",
            "0            1   Sweden      ARVID KALLE     AADLI   M   62        P         0\n",
            "1            2  Estonia              LEA   AALISTE   F   22        C         0\n",
            "2            3  Estonia             AIRI   AAVASTE   F   21        C         0\n",
            "3            4   Sweden             JURI     AAVIK   M   53        C         0\n",
            "4            5   Sweden  BRITTA ELISABET  AHLSTROM   F   55        P         0\n"
          ]
        }
      ]
    },
    {
      "cell_type": "code",
      "source": [
        "merged_data=pd.merge(data1,data2,on='PassengerId',how='inner')\n",
        "print(merged_data.head())"
      ],
      "metadata": {
        "colab": {
          "base_uri": "https://localhost:8080/"
        },
        "id": "vBTunoC3tI8g",
        "outputId": "fa527b43-aac9-44cc-dfdd-933041187d28"
      },
      "execution_count": null,
      "outputs": [
        {
          "output_type": "stream",
          "name": "stdout",
          "text": [
            "   PassengerId  Survived_x  Pclass  \\\n",
            "0          892           0       3   \n",
            "1          893           1       3   \n",
            "2          894           0       2   \n",
            "3          895           0       3   \n",
            "4          896           1       3   \n",
            "\n",
            "                                           Name   Sex_x  Age_x  SibSp  Parch  \\\n",
            "0                              Kelly, Mr. James    male   34.5      0      0   \n",
            "1              Wilkes, Mrs. James (Ellen Needs)  female   47.0      1      0   \n",
            "2                     Myles, Mr. Thomas Francis    male   62.0      0      0   \n",
            "3                              Wirz, Mr. Albert    male   27.0      0      0   \n",
            "4  Hirvonen, Mrs. Alexander (Helga E Lindqvist)  female   22.0      1      1   \n",
            "\n",
            "    Ticket     Fare Cabin Embarked  Country Firstname  Lastname Sex_y  Age_y  \\\n",
            "0   330911   7.8292   NaN        Q  Estonia      ANTI    TSIREL     M     22   \n",
            "1   363272   7.0000   NaN        S  Estonia       EPP  TUDELEPP     F     21   \n",
            "2   240276   9.6875   NaN        Q  Estonia      ARVO    TULVIK     M     42   \n",
            "3   315154   8.6625   NaN        S   Sweden     MIHAI   TURDEAN     M     43   \n",
            "4  3101298  12.2875   NaN        S  Estonia     TARMO      TURN     M     28   \n",
            "\n",
            "  Category  Survived_y  \n",
            "0        P           0  \n",
            "1        C           0  \n",
            "2        C           0  \n",
            "3        C           1  \n",
            "4        P           0  \n"
          ]
        }
      ]
    }
  ]
}