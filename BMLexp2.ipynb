{
  "nbformat": 4,
  "nbformat_minor": 0,
  "metadata": {
    "colab": {
      "provenance": [],
      "authorship_tag": "ABX9TyOwYtaToI5hbqiouznVu4QA",
      "include_colab_link": true
    },
    "kernelspec": {
      "name": "python3",
      "display_name": "Python 3"
    },
    "language_info": {
      "name": "python"
    }
  },
  "cells": [
    {
      "cell_type": "markdown",
      "metadata": {
        "id": "view-in-github",
        "colab_type": "text"
      },
      "source": [
        "<a href=\"https://colab.research.google.com/github/SaanviDhakane29/SKILL-PYTHON-/blob/main/BMLexp2.ipynb\" target=\"_parent\"><img src=\"https://colab.research.google.com/assets/colab-badge.svg\" alt=\"Open In Colab\"/></a>"
      ]
    },
    {
      "cell_type": "code",
      "execution_count": 1,
      "metadata": {
        "colab": {
          "base_uri": "https://localhost:8080/"
        },
        "id": "ocuRu0qM9BDc",
        "outputId": "aac1647c-c322-4ae4-fd19-1dfd8ddcdc1c"
      },
      "outputs": [
        {
          "output_type": "stream",
          "name": "stdout",
          "text": [
            "Mounted at /content/drive\n"
          ]
        }
      ],
      "source": [
        "from google.colab import drive\n",
        "drive.mount('/content/drive')\n",
        "\n"
      ]
    },
    {
      "cell_type": "code",
      "source": [
        "import pandas as pd\n",
        "import numpy as np\n",
        "from sklearn.preprocessing import LabelEncoder,OneHotEncoder,MinMaxScaler, StandardScaler, RobustScaler\n",
        "df=pd.read_csv('/content/drive/MyDrive/passengerlist.csv')\n",
        "print(df.head())\n"
      ],
      "metadata": {
        "colab": {
          "base_uri": "https://localhost:8080/"
        },
        "id": "AeL0Wq_59gmG",
        "outputId": "c664eaff-5ffc-4b83-9768-349926b263fe"
      },
      "execution_count": 17,
      "outputs": [
        {
          "output_type": "stream",
          "name": "stdout",
          "text": [
            "   PassengerId  Country        Firstname  Lastname Sex  Age Category  Survived\n",
            "0            1   Sweden      ARVID KALLE     AADLI   M   62        P         0\n",
            "1            2  Estonia              LEA   AALISTE   F   22        C         0\n",
            "2            3  Estonia             AIRI   AAVASTE   F   21        C         0\n",
            "3            4   Sweden             JURI     AAVIK   M   53        C         0\n",
            "4            5   Sweden  BRITTA ELISABET  AHLSTROM   F   55        P         0\n"
          ]
        }
      ]
    },
    {
      "cell_type": "code",
      "source": [
        "df.isnull().sum()"
      ],
      "metadata": {
        "colab": {
          "base_uri": "https://localhost:8080/",
          "height": 335
        },
        "id": "ujt1yPAm97rO",
        "outputId": "2c3e01de-c50b-499b-f5a2-ba7ca06b56d8"
      },
      "execution_count": 3,
      "outputs": [
        {
          "output_type": "execute_result",
          "data": {
            "text/plain": [
              "PassengerId    0\n",
              "Country        0\n",
              "Firstname      0\n",
              "Lastname       0\n",
              "Sex            0\n",
              "Age            0\n",
              "Category       0\n",
              "Survived       0\n",
              "dtype: int64"
            ],
            "text/html": [
              "<div>\n",
              "<style scoped>\n",
              "    .dataframe tbody tr th:only-of-type {\n",
              "        vertical-align: middle;\n",
              "    }\n",
              "\n",
              "    .dataframe tbody tr th {\n",
              "        vertical-align: top;\n",
              "    }\n",
              "\n",
              "    .dataframe thead th {\n",
              "        text-align: right;\n",
              "    }\n",
              "</style>\n",
              "<table border=\"1\" class=\"dataframe\">\n",
              "  <thead>\n",
              "    <tr style=\"text-align: right;\">\n",
              "      <th></th>\n",
              "      <th>0</th>\n",
              "    </tr>\n",
              "  </thead>\n",
              "  <tbody>\n",
              "    <tr>\n",
              "      <th>PassengerId</th>\n",
              "      <td>0</td>\n",
              "    </tr>\n",
              "    <tr>\n",
              "      <th>Country</th>\n",
              "      <td>0</td>\n",
              "    </tr>\n",
              "    <tr>\n",
              "      <th>Firstname</th>\n",
              "      <td>0</td>\n",
              "    </tr>\n",
              "    <tr>\n",
              "      <th>Lastname</th>\n",
              "      <td>0</td>\n",
              "    </tr>\n",
              "    <tr>\n",
              "      <th>Sex</th>\n",
              "      <td>0</td>\n",
              "    </tr>\n",
              "    <tr>\n",
              "      <th>Age</th>\n",
              "      <td>0</td>\n",
              "    </tr>\n",
              "    <tr>\n",
              "      <th>Category</th>\n",
              "      <td>0</td>\n",
              "    </tr>\n",
              "    <tr>\n",
              "      <th>Survived</th>\n",
              "      <td>0</td>\n",
              "    </tr>\n",
              "  </tbody>\n",
              "</table>\n",
              "</div><br><label><b>dtype:</b> int64</label>"
            ]
          },
          "metadata": {},
          "execution_count": 3
        }
      ]
    },
    {
      "cell_type": "code",
      "source": [
        "df.duplicated().sum()"
      ],
      "metadata": {
        "colab": {
          "base_uri": "https://localhost:8080/"
        },
        "id": "aHfaLw8M-Ms8",
        "outputId": "af07480a-f2f4-4f31-8b36-6191f94552c9"
      },
      "execution_count": 4,
      "outputs": [
        {
          "output_type": "execute_result",
          "data": {
            "text/plain": [
              "np.int64(0)"
            ]
          },
          "metadata": {},
          "execution_count": 4
        }
      ]
    },
    {
      "cell_type": "code",
      "source": [
        "label_encoder=LabelEncoder()\n",
        "df['Sex']=label_encoder.fit_transform(df['Sex'])\n",
        "print(df.head())"
      ],
      "metadata": {
        "colab": {
          "base_uri": "https://localhost:8080/"
        },
        "id": "6Dj4F9sf-Uv7",
        "outputId": "2abecd1c-ea38-46e3-d4ab-8c4d410f3cee"
      },
      "execution_count": 8,
      "outputs": [
        {
          "output_type": "stream",
          "name": "stdout",
          "text": [
            "   PassengerId  Country        Firstname  Lastname  Sex  Age Category  \\\n",
            "0            1   Sweden      ARVID KALLE     AADLI    1   62        P   \n",
            "1            2  Estonia              LEA   AALISTE    0   22        C   \n",
            "2            3  Estonia             AIRI   AAVASTE    0   21        C   \n",
            "3            4   Sweden             JURI     AAVIK    1   53        C   \n",
            "4            5   Sweden  BRITTA ELISABET  AHLSTROM    0   55        P   \n",
            "\n",
            "   Survived  \n",
            "0         0  \n",
            "1         0  \n",
            "2         0  \n",
            "3         0  \n",
            "4         0  \n"
          ]
        }
      ]
    },
    {
      "cell_type": "code",
      "source": [
        "one_hot_encoded=pd.get_dummies(df['Country'])\n",
        "df=df.drop('Country',axis=1)\n",
        "df=df.join(one_hot_encoded)\n",
        "print(df.head())\n"
      ],
      "metadata": {
        "colab": {
          "base_uri": "https://localhost:8080/"
        },
        "id": "Hgk29kCG_RBS",
        "outputId": "9fc108a7-20e7-4eb8-aabc-a7d4bc399ead"
      },
      "execution_count": 16,
      "outputs": [
        {
          "output_type": "stream",
          "name": "stdout",
          "text": [
            "   PassengerId        Firstname  Lastname Sex  Age Category  Survived  \\\n",
            "0            1      ARVID KALLE     AADLI   M   62        P         0   \n",
            "1            2              LEA   AALISTE   F   22        C         0   \n",
            "2            3             AIRI   AAVASTE   F   21        C         0   \n",
            "3            4             JURI     AAVIK   M   53        C         0   \n",
            "4            5  BRITTA ELISABET  AHLSTROM   F   55        P         0   \n",
            "\n",
            "   Belarus  Canada  Denmark  ...  Germany  Great Britain  Latvia  Lithuania  \\\n",
            "0    False   False    False  ...    False          False   False      False   \n",
            "1    False   False    False  ...    False          False   False      False   \n",
            "2    False   False    False  ...    False          False   False      False   \n",
            "3    False   False    False  ...    False          False   False      False   \n",
            "4    False   False    False  ...    False          False   False      False   \n",
            "\n",
            "   Morocco  Netherlands  Nigeria  Norway  Russia  Sweden  \n",
            "0    False        False    False   False   False    True  \n",
            "1    False        False    False   False   False   False  \n",
            "2    False        False    False   False   False   False  \n",
            "3    False        False    False   False   False    True  \n",
            "4    False        False    False   False   False    True  \n",
            "\n",
            "[5 rows x 23 columns]\n"
          ]
        }
      ]
    }
  ]
}