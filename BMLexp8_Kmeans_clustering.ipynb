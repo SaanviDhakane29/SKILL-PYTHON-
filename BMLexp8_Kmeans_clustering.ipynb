{
  "nbformat": 4,
  "nbformat_minor": 0,
  "metadata": {
    "colab": {
      "provenance": [],
      "authorship_tag": "ABX9TyObuZyaNs6taAaSjsDg7dqg",
      "include_colab_link": true
    },
    "kernelspec": {
      "name": "python3",
      "display_name": "Python 3"
    },
    "language_info": {
      "name": "python"
    }
  },
  "cells": [
    {
      "cell_type": "markdown",
      "metadata": {
        "id": "view-in-github",
        "colab_type": "text"
      },
      "source": [
        "<a href=\"https://colab.research.google.com/github/SaanviDhakane29/SKILL-PYTHON-/blob/main/BMLexp8_Kmeans_clustering.ipynb\" target=\"_parent\"><img src=\"https://colab.research.google.com/assets/colab-badge.svg\" alt=\"Open In Colab\"/></a>"
      ]
    },
    {
      "cell_type": "code",
      "execution_count": 1,
      "metadata": {
        "colab": {
          "base_uri": "https://localhost:8080/"
        },
        "id": "FMZ8toYrOSnl",
        "outputId": "5cd88741-a82a-4606-aa1c-538a152e5720"
      },
      "outputs": [
        {
          "output_type": "stream",
          "name": "stdout",
          "text": [
            "Cluster centers:\n",
            "[[1.25985294e+01 2.45343137e+00 2.32186275e+00 2.06460784e+01\n",
            "  9.36960784e+01 2.05362745e+00 1.64754902e+00 3.95980392e-01\n",
            "  1.42509804e+00 4.67333332e+00 9.17843137e-01 2.39480392e+00\n",
            "  5.21558824e+02]\n",
            " [1.33691837e+01 2.40000000e+00 2.39265306e+00 1.85142857e+01\n",
            "  1.09081633e+02 2.44163265e+00 2.21367347e+00 3.25510204e-01\n",
            "  1.70673469e+00 5.18836735e+00 9.59714286e-01 2.84795918e+00\n",
            "  9.06346939e+02]\n",
            " [1.38507407e+01 1.77851852e+00 2.48777778e+00 1.69259259e+01\n",
            "  1.05629630e+02 2.94148148e+00 3.13666667e+00 2.98888889e-01\n",
            "  2.00703704e+00 6.27518519e+00 1.10296296e+00 3.00222222e+00\n",
            "  1.30877778e+03]]\n",
            "Predicted cluster labels:\n",
            "[1 1 2 2 1 2 2 2 1 1 2 2 2 2 2 2 2 2 2 1 1 1 1 1 1 1 2 2 1 1 2 2 1 2 1 1 1\n",
            " 1 1 1 1 1 1 0 1 1 1 1 1 2 2 2 2 2 1 2 1 2 2 0 0 0 0 0 0 0 0 0 1 1 1 0 0 1\n",
            " 1 0 0 0 1 0 0 0 0 0 0 0 0 0 0 0 0 0 0 0 0 1 0 0 0 0 0 0 0 0 0 0 0 0 0 0 0\n",
            " 0 0 0 0 0 0 0 0 0 0 0 0 0 0 0 0 0 0 0 0 0 0 0 0 0 1 0 0 0 0 1 0 0 1 1 0 0\n",
            " 0 0 0 0 0 0 0 1 0 1 0 0 0 0 0 0 0 0 0 0 1 0 0 0 0 1 1 1 1 0]\n"
          ]
        }
      ],
      "source": [
        "from sklearn.datasets import load_wine\n",
        "from sklearn.model_selection import train_test_split\n",
        "from sklearn.cluster import KMeans\n",
        "import numpy as np\n",
        "\n",
        "wine = load_wine()\n",
        "X = wine.data\n",
        "kmeans = KMeans(n_clusters=3, random_state=42)  #as there are 3 classes in the wine dataset\n",
        "kmeans.fit(X)\n",
        "\n",
        "print(f\"Cluster centers:\\n{kmeans.cluster_centers_}\")\n",
        "print(f\"Predicted cluster labels:\\n{kmeans.labels_}\")\n"
      ]
    }
  ]
}