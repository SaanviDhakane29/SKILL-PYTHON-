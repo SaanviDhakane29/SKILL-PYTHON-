{
  "nbformat": 4,
  "nbformat_minor": 0,
  "metadata": {
    "colab": {
      "provenance": [],
      "authorship_tag": "ABX9TyM6ia9y2mGeSjQrXBiZ4Fr6",
      "include_colab_link": true
    },
    "kernelspec": {
      "name": "python3",
      "display_name": "Python 3"
    },
    "language_info": {
      "name": "python"
    }
  },
  "cells": [
    {
      "cell_type": "markdown",
      "metadata": {
        "id": "view-in-github",
        "colab_type": "text"
      },
      "source": [
        "<a href=\"https://colab.research.google.com/github/SaanviDhakane29/SKILL-BML-PYTHON-/blob/main/BML_expt10_(random_forest_ensemble_method).ipynb\" target=\"_parent\"><img src=\"https://colab.research.google.com/assets/colab-badge.svg\" alt=\"Open In Colab\"/></a>"
      ]
    },
    {
      "cell_type": "code",
      "execution_count": 1,
      "metadata": {
        "id": "w2eEShUfTfqb",
        "colab": {
          "base_uri": "https://localhost:8080/"
        },
        "outputId": "a7f8e404-8674-44aa-c74f-59a7f8a93f26"
      },
      "outputs": [
        {
          "output_type": "stream",
          "name": "stdout",
          "text": [
            "Mounted at /content/drive\n"
          ]
        }
      ],
      "source": [
        "from google.colab import drive\n",
        "drive.mount('/content/drive')"
      ]
    },
    {
      "cell_type": "code",
      "source": [
        "import seaborn as sns\n",
        "import pandas as pd\n",
        "from sklearn.model_selection import train_test_split\n",
        "from sklearn.ensemble import RandomForestClassifier\n",
        "from sklearn.metrics import accuracy_score, classification_report"
      ],
      "metadata": {
        "id": "FPbxZkaQXkRU"
      },
      "execution_count": 4,
      "outputs": []
    },
    {
      "cell_type": "code",
      "source": [
        "df=pd.read_csv(\"/content/drive/MyDrive/passengerlist.csv\")\n",
        "print(df.head())"
      ],
      "metadata": {
        "colab": {
          "base_uri": "https://localhost:8080/"
        },
        "id": "lRSAcRL7Xl5T",
        "outputId": "c8668cae-e47b-45cc-bcd1-2747040c8d0b"
      },
      "execution_count": 5,
      "outputs": [
        {
          "output_type": "stream",
          "name": "stdout",
          "text": [
            "   PassengerId  Country        Firstname  Lastname Sex  Age Category  Survived\n",
            "0            1   Sweden      ARVID KALLE     AADLI   M   62        P         0\n",
            "1            2  Estonia              LEA   AALISTE   F   22        C         0\n",
            "2            3  Estonia             AIRI   AAVASTE   F   21        C         0\n",
            "3            4   Sweden             JURI     AAVIK   M   53        C         0\n",
            "4            5   Sweden  BRITTA ELISABET  AHLSTROM   F   55        P         0\n"
          ]
        }
      ]
    },
    {
      "cell_type": "code",
      "source": [
        "\n",
        "df = df.drop(['PassengerId', 'Country', 'Firstname', 'Lastname'], axis=1)\n",
        "\n",
        "# Drop rows with missing values for 'Age' or 'Sex'\n",
        "df = df.dropna(subset=['Age', 'Sex'], how='any')\n",
        "\n",
        "# Step 3: Encode categorical variables\n",
        "df.loc[:, 'Sex'] = df['Sex'].map({'male': 0, 'female': 1})\n",
        "df.loc[:, 'Category'] = df['Category'].map({'Third': 3, 'Second': 2, 'First': 1})  # Assuming 'Category' has values like 'Third', 'Second', 'First'\n",
        "\n",
        "# Step 4: Define features and target\n",
        "target = 'Survived'  # The target column\n",
        "features = ['Sex', 'Age', 'Category']  # Features to predict survival\n",
        "\n",
        "X = df[features]\n",
        "y = df[target]\n",
        "\n",
        "# Step 5: Train/test split\n",
        "X_train, X_test, y_train, y_test = train_test_split(X, y, test_size=0.2, random_state=42)\n",
        "\n",
        "# Step 6: Train Random Forest\n",
        "model = RandomForestClassifier(n_estimators=100, random_state=42)\n",
        "model.fit(X_train, y_train)\n",
        "\n",
        "# Step 7: Predictions and evaluation\n",
        "y_pred = model.predict(X_test)\n",
        "acc = accuracy_score(y_test, y_pred)\n",
        "print(\"Accuracy:\", acc)\n",
        "print(\"\\nClassification Report:\\n\", classification_report(y_test, y_pred))\n"
      ],
      "metadata": {
        "colab": {
          "base_uri": "https://localhost:8080/"
        },
        "id": "qlC_LthCXt-1",
        "outputId": "1a38d1fe-e392-4dfc-9ce4-60081df70afe"
      },
      "execution_count": 10,
      "outputs": [
        {
          "output_type": "stream",
          "name": "stdout",
          "text": [
            "Accuracy: 0.8636363636363636\n",
            "\n",
            "Classification Report:\n",
            "               precision    recall  f1-score   support\n",
            "\n",
            "           0       0.86      1.00      0.93       171\n",
            "           1       0.00      0.00      0.00        27\n",
            "\n",
            "    accuracy                           0.86       198\n",
            "   macro avg       0.43      0.50      0.46       198\n",
            "weighted avg       0.75      0.86      0.80       198\n",
            "\n"
          ]
        },
        {
          "output_type": "stream",
          "name": "stderr",
          "text": [
            "/usr/local/lib/python3.11/dist-packages/sklearn/metrics/_classification.py:1565: UndefinedMetricWarning: Precision is ill-defined and being set to 0.0 in labels with no predicted samples. Use `zero_division` parameter to control this behavior.\n",
            "  _warn_prf(average, modifier, f\"{metric.capitalize()} is\", len(result))\n",
            "/usr/local/lib/python3.11/dist-packages/sklearn/metrics/_classification.py:1565: UndefinedMetricWarning: Precision is ill-defined and being set to 0.0 in labels with no predicted samples. Use `zero_division` parameter to control this behavior.\n",
            "  _warn_prf(average, modifier, f\"{metric.capitalize()} is\", len(result))\n",
            "/usr/local/lib/python3.11/dist-packages/sklearn/metrics/_classification.py:1565: UndefinedMetricWarning: Precision is ill-defined and being set to 0.0 in labels with no predicted samples. Use `zero_division` parameter to control this behavior.\n",
            "  _warn_prf(average, modifier, f\"{metric.capitalize()} is\", len(result))\n"
          ]
        }
      ]
    },
    {
      "cell_type": "code",
      "source": [
        "# Print column names as a list\n",
        "print(list(df.columns))\n"
      ],
      "metadata": {
        "colab": {
          "base_uri": "https://localhost:8080/"
        },
        "id": "G2F6u56WY8v0",
        "outputId": "8c628f43-ec0f-41c3-c0b0-e47736a10ac7"
      },
      "execution_count": 9,
      "outputs": [
        {
          "output_type": "stream",
          "name": "stdout",
          "text": [
            "['PassengerId', 'Country', 'Firstname', 'Lastname', 'Sex', 'Age', 'Category', 'Survived']\n"
          ]
        }
      ]
    }
  ]
}