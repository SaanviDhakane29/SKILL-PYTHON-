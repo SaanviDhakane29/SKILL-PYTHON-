{
  "nbformat": 4,
  "nbformat_minor": 0,
  "metadata": {
    "colab": {
      "provenance": [],
      "authorship_tag": "ABX9TyNEDbKhGfe6iHEKdq6xlTC4",
      "include_colab_link": true
    },
    "kernelspec": {
      "name": "python3",
      "display_name": "Python 3"
    },
    "language_info": {
      "name": "python"
    }
  },
  "cells": [
    {
      "cell_type": "markdown",
      "metadata": {
        "id": "view-in-github",
        "colab_type": "text"
      },
      "source": [
        "<a href=\"https://colab.research.google.com/github/SaanviDhakane29/SKILL-PYTHON-/blob/main/BMLexp5_Decision_tree.ipynb\" target=\"_parent\"><img src=\"https://colab.research.google.com/assets/colab-badge.svg\" alt=\"Open In Colab\"/></a>"
      ]
    },
    {
      "cell_type": "code",
      "execution_count": 2,
      "metadata": {
        "colab": {
          "base_uri": "https://localhost:8080/"
        },
        "id": "oiOQXPuTJ8ux",
        "outputId": "630eb22a-a281-4247-a974-670ff1f34d17"
      },
      "outputs": [
        {
          "output_type": "stream",
          "name": "stdout",
          "text": [
            "Accuracy: 100.00%\n",
            "Decision Tree Rules:\n",
            "|--- petal length (cm) <= 2.45\n",
            "|   |--- class: 0\n",
            "|--- petal length (cm) >  2.45\n",
            "|   |--- petal length (cm) <= 4.75\n",
            "|   |   |--- petal width (cm) <= 1.65\n",
            "|   |   |   |--- class: 1\n",
            "|   |   |--- petal width (cm) >  1.65\n",
            "|   |   |   |--- class: 2\n",
            "|   |--- petal length (cm) >  4.75\n",
            "|   |   |--- petal width (cm) <= 1.75\n",
            "|   |   |   |--- petal length (cm) <= 4.95\n",
            "|   |   |   |   |--- class: 1\n",
            "|   |   |   |--- petal length (cm) >  4.95\n",
            "|   |   |   |   |--- petal width (cm) <= 1.55\n",
            "|   |   |   |   |   |--- class: 2\n",
            "|   |   |   |   |--- petal width (cm) >  1.55\n",
            "|   |   |   |   |   |--- petal length (cm) <= 5.45\n",
            "|   |   |   |   |   |   |--- class: 1\n",
            "|   |   |   |   |   |--- petal length (cm) >  5.45\n",
            "|   |   |   |   |   |   |--- class: 2\n",
            "|   |   |--- petal width (cm) >  1.75\n",
            "|   |   |   |--- petal length (cm) <= 4.85\n",
            "|   |   |   |   |--- sepal length (cm) <= 5.95\n",
            "|   |   |   |   |   |--- class: 1\n",
            "|   |   |   |   |--- sepal length (cm) >  5.95\n",
            "|   |   |   |   |   |--- class: 2\n",
            "|   |   |   |--- petal length (cm) >  4.85\n",
            "|   |   |   |   |--- class: 2\n",
            "\n"
          ]
        }
      ],
      "source": [
        "from sklearn.datasets import load_iris\n",
        "from sklearn.model_selection import train_test_split\n",
        "from sklearn.tree import DecisionTreeClassifier\n",
        "from sklearn import metrics\n",
        "from sklearn.tree import export_text\n",
        "iris = load_iris()\n",
        "X = iris.data\n",
        "y = iris.target\n",
        "X_train,X_test,y_train,y_test=train_test_split(X,y,test_size=0.2,random_state=42)\n",
        "\n",
        "df = DecisionTreeClassifier()\n",
        "\n",
        "df.fit(X_train, y_train)\n",
        "\n",
        "\n",
        "y_pred = df.predict(X_test)\n",
        "\n",
        "\n",
        "accuracy = metrics.accuracy_score(y_test, y_pred)\n",
        "print(f\"Accuracy: {accuracy * 100:.2f}%\")\n",
        "\n",
        "\n",
        "tree_rules = export_text(df, feature_names=iris['feature_names'])\n",
        "print(\"Decision Tree Rules:\")\n",
        "print(tree_rules)\n"
      ]
    }
  ]
}