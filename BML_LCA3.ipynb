{
  "nbformat": 4,
  "nbformat_minor": 0,
  "metadata": {
    "colab": {
      "provenance": [],
      "authorship_tag": "ABX9TyMKpFq7DXJffRM65UfV17eb",
      "include_colab_link": true
    },
    "kernelspec": {
      "name": "python3",
      "display_name": "Python 3"
    },
    "language_info": {
      "name": "python"
    }
  },
  "cells": [
    {
      "cell_type": "markdown",
      "metadata": {
        "id": "view-in-github",
        "colab_type": "text"
      },
      "source": [
        "<a href=\"https://colab.research.google.com/github/SaanviDhakane29/SKILL-PYTHON-/blob/main/BML_LCA3.ipynb\" target=\"_parent\"><img src=\"https://colab.research.google.com/assets/colab-badge.svg\" alt=\"Open In Colab\"/></a>"
      ]
    },
    {
      "cell_type": "markdown",
      "source": [
        "TITLE- USING BANK MARKETING DATASET WE DETERMINE ITS ACCURACY BY USING DECISION TREE CLASSIFIER"
      ],
      "metadata": {
        "id": "_uXoXOx9UA3J"
      }
    },
    {
      "cell_type": "markdown",
      "source": [
        "We first merge drive and colab so that our downloaded dataset in csv form can be seen here and we can copy its path and load it!!!"
      ],
      "metadata": {
        "id": "BAbKKJwdUTLC"
      }
    },
    {
      "cell_type": "code",
      "execution_count": 1,
      "metadata": {
        "colab": {
          "base_uri": "https://localhost:8080/"
        },
        "id": "7CcqN83xG4H9",
        "outputId": "bb620f65-679b-49d7-d192-2c4ac7c284df"
      },
      "outputs": [
        {
          "output_type": "stream",
          "name": "stdout",
          "text": [
            "Mounted at /content/drive\n"
          ]
        }
      ],
      "source": [
        "from google.colab import drive\n",
        "drive.mount('/content/drive')"
      ]
    },
    {
      "cell_type": "markdown",
      "source": [
        "We read the dataset using pandas library and display its first 5 rows"
      ],
      "metadata": {
        "id": "Jqn6XSQYUkLo"
      }
    },
    {
      "cell_type": "code",
      "source": [
        "import pandas as pd\n",
        "df=pd.read_csv('/content/drive/MyDrive/bank.csv')\n",
        "print(df.head())"
      ],
      "metadata": {
        "colab": {
          "base_uri": "https://localhost:8080/"
        },
        "id": "7b8Q9ZJ5HRL1",
        "outputId": "39504318-1efe-493d-bedf-38f81216b92f"
      },
      "execution_count": 2,
      "outputs": [
        {
          "output_type": "stream",
          "name": "stdout",
          "text": [
            "   age         job  marital  education default  balance housing loan  contact  \\\n",
            "0   59      admin.  married  secondary      no     2343     yes   no  unknown   \n",
            "1   56      admin.  married  secondary      no       45      no   no  unknown   \n",
            "2   41  technician  married  secondary      no     1270     yes   no  unknown   \n",
            "3   55    services  married  secondary      no     2476     yes   no  unknown   \n",
            "4   54      admin.  married   tertiary      no      184      no   no  unknown   \n",
            "\n",
            "   day month  duration  campaign  pdays  previous poutcome deposit  \n",
            "0    5   may      1042         1     -1         0  unknown     yes  \n",
            "1    5   may      1467         1     -1         0  unknown     yes  \n",
            "2    5   may      1389         1     -1         0  unknown     yes  \n",
            "3    5   may       579         1     -1         0  unknown     yes  \n",
            "4    5   may       673         2     -1         0  unknown     yes  \n"
          ]
        }
      ]
    },
    {
      "cell_type": "markdown",
      "source": [
        "Then , we check if there are any null values in the dataset and display the number of null values.HERE, there are none"
      ],
      "metadata": {
        "id": "z1easjeFUq85"
      }
    },
    {
      "cell_type": "code",
      "source": [
        "print(df.isnull().sum())"
      ],
      "metadata": {
        "colab": {
          "base_uri": "https://localhost:8080/"
        },
        "id": "OgTbQ_D7KoBl",
        "outputId": "34c7e26f-426a-40f7-e338-704e879f87e4"
      },
      "execution_count": 3,
      "outputs": [
        {
          "output_type": "stream",
          "name": "stdout",
          "text": [
            "age          0\n",
            "job          0\n",
            "marital      0\n",
            "education    0\n",
            "default      0\n",
            "balance      0\n",
            "housing      0\n",
            "loan         0\n",
            "contact      0\n",
            "day          0\n",
            "month        0\n",
            "duration     0\n",
            "campaign     0\n",
            "pdays        0\n",
            "previous     0\n",
            "poutcome     0\n",
            "deposit      0\n",
            "dtype: int64\n"
          ]
        }
      ]
    },
    {
      "cell_type": "markdown",
      "source": [
        "We also check if there are any duplicates and display but HERE there are none again..."
      ],
      "metadata": {
        "id": "saYIqM3MU3MF"
      }
    },
    {
      "cell_type": "code",
      "source": [
        "print(df.duplicated().sum())"
      ],
      "metadata": {
        "colab": {
          "base_uri": "https://localhost:8080/"
        },
        "id": "YNziR-9tL74R",
        "outputId": "b9ce79a8-176d-4ed7-a1b5-8bc1f64bf91c"
      },
      "execution_count": 6,
      "outputs": [
        {
          "output_type": "stream",
          "name": "stdout",
          "text": [
            "0\n"
          ]
        }
      ]
    },
    {
      "cell_type": "markdown",
      "source": [
        "Now , we use label encoder to encode all the categorical entites into numerical format .We selected \"education\" category."
      ],
      "metadata": {
        "id": "BB2umvrSU_SO"
      }
    },
    {
      "cell_type": "code",
      "source": [
        "from sklearn.preprocessing import LabelEncoder\n",
        "label_encoder = LabelEncoder()\n",
        "df[\"education\"] = label_encoder.fit_transform(df[\"education\"])\n",
        "print(df.head())"
      ],
      "metadata": {
        "colab": {
          "base_uri": "https://localhost:8080/"
        },
        "id": "K-OpLNiuMg65",
        "outputId": "b2026c6f-6443-43fc-8f61-8430cbb61ef1"
      },
      "execution_count": 10,
      "outputs": [
        {
          "output_type": "stream",
          "name": "stdout",
          "text": [
            "   age         job  marital  education default  balance housing loan  contact  \\\n",
            "0   59      admin.  married          1      no     2343     yes   no  unknown   \n",
            "1   56      admin.  married          1      no       45      no   no  unknown   \n",
            "2   41  technician  married          1      no     1270     yes   no  unknown   \n",
            "3   55    services  married          1      no     2476     yes   no  unknown   \n",
            "4   54      admin.  married          2      no      184      no   no  unknown   \n",
            "\n",
            "   day month  duration  campaign  pdays  previous poutcome deposit  \\\n",
            "0    5   may      1042         1     -1         0  unknown     yes   \n",
            "1    5   may      1467         1     -1         0  unknown     yes   \n",
            "2    5   may      1389         1     -1         0  unknown     yes   \n",
            "3    5   may       579         1     -1         0  unknown     yes   \n",
            "4    5   may       673         2     -1         0  unknown     yes   \n",
            "\n",
            "   education_lbl  \n",
            "0              1  \n",
            "1              1  \n",
            "2              1  \n",
            "3              1  \n",
            "4              2  \n"
          ]
        }
      ]
    },
    {
      "cell_type": "markdown",
      "source": [
        "Now that all the loading and preprocessing is done . we turn to the main part that is the decison tree classfier."
      ],
      "metadata": {
        "id": "rATVCSfwVNX3"
      }
    },
    {
      "cell_type": "code",
      "source": [
        "from sklearn.model_selection import train_test_split\n",
        "from sklearn.tree import DecisionTreeClassifier\n",
        "from sklearn.metrics import accuracy_score, classification_report\n",
        "\n",
        "\n",
        "X = df.drop(columns=[\"deposit\"]).select_dtypes(include=[\"number\"])\n",
        "y = df[\"deposit\"].map({\"yes\": 1, \"no\": 0})\n",
        "\n",
        "\n",
        "X_train, X_test, y_train, y_test = train_test_split(X, y, test_size=0.2, random_state=42, stratify=y)\n",
        "\n",
        "\n",
        "classifier = DecisionTreeClassifier(random_state=42)\n",
        "classifier.fit(X_train, y_train)\n",
        "\n",
        "y_pred = classifier.predict(X_test)\n",
        "print(\"Accuracy Score:\\n\", accuracy_score(y_test, y_pred))\n",
        "print(\"Accuracy percentage :\\n\", accuracy_score(y_test, y_pred)*100)\n",
        "print(\"Classification Report:\\n\", classification_report(y_test, y_pred))\n"
      ],
      "metadata": {
        "colab": {
          "base_uri": "https://localhost:8080/"
        },
        "id": "_EDevr3HO-mI",
        "outputId": "4122bfe0-5cb6-41b4-fb7a-8bb26c6ebd05"
      },
      "execution_count": 19,
      "outputs": [
        {
          "output_type": "stream",
          "name": "stdout",
          "text": [
            "Accuracy Score:\n",
            " 0.7169726824899239\n",
            "Accuracy percentage :\n",
            " 71.69726824899239\n",
            "Classification Report:\n",
            "               precision    recall  f1-score   support\n",
            "\n",
            "           0       0.73      0.72      0.73      1175\n",
            "           1       0.70      0.71      0.70      1058\n",
            "\n",
            "    accuracy                           0.72      2233\n",
            "   macro avg       0.72      0.72      0.72      2233\n",
            "weighted avg       0.72      0.72      0.72      2233\n",
            "\n"
          ]
        }
      ]
    }
  ]
}