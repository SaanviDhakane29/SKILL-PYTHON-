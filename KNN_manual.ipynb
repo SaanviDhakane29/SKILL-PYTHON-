{
  "nbformat": 4,
  "nbformat_minor": 0,
  "metadata": {
    "colab": {
      "provenance": [],
      "authorship_tag": "ABX9TyNyFgo5OGCm2uSj+CKrTCkN",
      "include_colab_link": true
    },
    "kernelspec": {
      "name": "python3",
      "display_name": "Python 3"
    },
    "language_info": {
      "name": "python"
    }
  },
  "cells": [
    {
      "cell_type": "markdown",
      "metadata": {
        "id": "view-in-github",
        "colab_type": "text"
      },
      "source": [
        "<a href=\"https://colab.research.google.com/github/SaanviDhakane29/SKILL-PYTHON-/blob/main/KNN_manual.ipynb\" target=\"_parent\"><img src=\"https://colab.research.google.com/assets/colab-badge.svg\" alt=\"Open In Colab\"/></a>"
      ]
    },
    {
      "cell_type": "code",
      "execution_count": 1,
      "metadata": {
        "id": "OLV69K43O92Q",
        "outputId": "d2d928df-812c-493b-d14a-47ab20de2563",
        "colab": {
          "base_uri": "https://localhost:8080/"
        }
      },
      "outputs": [
        {
          "output_type": "stream",
          "name": "stdout",
          "text": [
            "Predicted label for point [4 4] is: B\n"
          ]
        }
      ],
      "source": [
        "import numpy as np\n",
        "\n",
        "# Step 1: Define the Euclidean distance function\n",
        "def euclidean_distance(point1, point2):\n",
        "    return np.sqrt(np.sum((point1 - point2) ** 2))\n",
        "\n",
        "# Step 2: Define the KNN function\n",
        "def knn(train_data, train_labels, test_point, k):\n",
        "    distances = []\n",
        "\n",
        "    # Step 3: Calculate the distance between the test point and all points in the training data\n",
        "    for i in range(len(train_data)):\n",
        "        dist = euclidean_distance(test_point, train_data[i])\n",
        "        distances.append((train_data[i], train_labels[i], dist))  # Store the data, label, and distance\n",
        "\n",
        "    # Step 4: Sort the distances in ascending order\n",
        "    distances.sort(key=lambda x: x[2])  # Sort by the distance (the third element in the tuple)\n",
        "\n",
        "    # Step 5: Get the k nearest neighbors\n",
        "    neighbors = distances[:k]\n",
        "\n",
        "    # Step 6: Perform majority voting for classification\n",
        "    labels = [neighbor[1] for neighbor in neighbors]  # Get the labels of the k nearest neighbors\n",
        "    prediction = max(set(labels), key=labels.count)  # Return the most frequent label\n",
        "\n",
        "    return prediction\n",
        "\n",
        "# Example dataset: 2D points with labels\n",
        "train_data = np.array([[1, 2], [2, 3], [3, 3], [6, 5], [7, 8]])  # Points in 2D\n",
        "train_labels = ['A', 'A', 'B', 'B', 'A']  # Labels for each point\n",
        "\n",
        "# Test point (for which we want to predict the label)\n",
        "test_point = np.array([4, 4])\n",
        "\n",
        "# Number of neighbors to consider\n",
        "k = 3\n",
        "\n",
        "# Step 7: Make the prediction\n",
        "predicted_label = knn(train_data, train_labels, test_point, k)\n",
        "\n",
        "print(f\"Predicted label for point {test_point} is: {predicted_label}\")"
      ]
    }
  ]
}