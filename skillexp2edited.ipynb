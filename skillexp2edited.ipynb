{
  "nbformat": 4,
  "nbformat_minor": 0,
  "metadata": {
    "colab": {
      "provenance": [],
      "mount_file_id": "1ffXqWiaCos6L4ABEJC9U_2v6EFmFwe8M",
      "authorship_tag": "ABX9TyNM34RbwOhwiK8v3V4PSWZs",
      "include_colab_link": true
    },
    "kernelspec": {
      "name": "python3",
      "display_name": "Python 3"
    },
    "language_info": {
      "name": "python"
    }
  },
  "cells": [
    {
      "cell_type": "markdown",
      "metadata": {
        "id": "view-in-github",
        "colab_type": "text"
      },
      "source": [
        "<a href=\"https://colab.research.google.com/github/SaanviDhakane29/SKILL-PYTHON-/blob/main/skillexp2edited.ipynb\" target=\"_parent\"><img src=\"https://colab.research.google.com/assets/colab-badge.svg\" alt=\"Open In Colab\"/></a>"
      ]
    },
    {
      "cell_type": "code",
      "execution_count": null,
      "metadata": {
        "id": "nxh3TugFMz0A",
        "colab": {
          "base_uri": "https://localhost:8080/"
        },
        "outputId": "b274b3f7-442b-43d5-8668-86e0916ad64b"
      },
      "outputs": [
        {
          "output_type": "stream",
          "name": "stdout",
          "text": [
            "Drive already mounted at /content/drive; to attempt to forcibly remount, call drive.mount(\"/content/drive\", force_remount=True).\n"
          ]
        }
      ],
      "source": [
        "##data preprocessing\n",
        "from google.colab import drive\n",
        "drive.mount('/content/drive')"
      ]
    },
    {
      "cell_type": "code",
      "source": [
        "import pandas as pd\n",
        "from sklearn.preprocessing import LabelEncoder,OneHotEncoder\n",
        "df=pd.read_csv('/content/drive/MyDrive/tested.csv')\n",
        "print(df.head())"
      ],
      "metadata": {
        "colab": {
          "base_uri": "https://localhost:8080/"
        },
        "id": "xOOpOhZlb9WZ",
        "outputId": "8838eda8-b84c-43b4-dd86-23beb544d45e"
      },
      "execution_count": 2,
      "outputs": [
        {
          "output_type": "stream",
          "name": "stdout",
          "text": [
            "   PassengerId  Survived  Pclass  ...     Fare Cabin  Embarked\n",
            "0          892         0       3  ...   7.8292   NaN         Q\n",
            "1          893         1       3  ...   7.0000   NaN         S\n",
            "2          894         0       2  ...   9.6875   NaN         Q\n",
            "3          895         0       3  ...   8.6625   NaN         S\n",
            "4          896         1       3  ...  12.2875   NaN         S\n",
            "\n",
            "[5 rows x 12 columns]\n"
          ]
        }
      ]
    },
    {
      "cell_type": "code",
      "source": [
        "print(df.isnull().sum())"
      ],
      "metadata": {
        "colab": {
          "base_uri": "https://localhost:8080/"
        },
        "id": "TRptpXOEcznh",
        "outputId": "940b694e-f824-446e-fa97-07749b9b2506"
      },
      "execution_count": null,
      "outputs": [
        {
          "output_type": "stream",
          "name": "stdout",
          "text": [
            "PassengerId      0\n",
            "Survived         0\n",
            "Pclass           0\n",
            "Name             0\n",
            "Sex              0\n",
            "Age             86\n",
            "SibSp            0\n",
            "Parch            0\n",
            "Ticket           0\n",
            "Fare             1\n",
            "Cabin          327\n",
            "Embarked         0\n",
            "dtype: int64\n"
          ]
        }
      ]
    },
    {
      "cell_type": "markdown",
      "source": [
        "label encoding is used to convert categorical values into numeric values which makes analysis a lot easier"
      ],
      "metadata": {
        "id": "hKieYLWg43Yu"
      }
    },
    {
      "cell_type": "code",
      "source": [
        "encoder=LabelEncoder()\n",
        "df['Cabin']=encoder.fit_transform(df['Cabin'])\n",
        "print(df.head())"
      ],
      "metadata": {
        "colab": {
          "base_uri": "https://localhost:8080/"
        },
        "id": "ntQ64fGSdcEq",
        "outputId": "399656c7-aa3f-4b72-908d-3687558b87c0"
      },
      "execution_count": null,
      "outputs": [
        {
          "output_type": "stream",
          "name": "stdout",
          "text": [
            "   PassengerId  Survived  Pclass  ...     Fare Cabin  Embarked\n",
            "0          892         0       3  ...   7.8292    76         Q\n",
            "1          893         1       3  ...   7.0000    76         S\n",
            "2          894         0       2  ...   9.6875    76         Q\n",
            "3          895         0       3  ...   8.6625    76         S\n",
            "4          896         1       3  ...  12.2875    76         S\n",
            "\n",
            "[5 rows x 12 columns]\n"
          ]
        }
      ]
    },
    {
      "cell_type": "code",
      "source": [
        "one_hot_encoded=pd.get_dummies(df['Embarked'])\n",
        "df=df.drop('Embarked',axis=1)\n",
        "df=df.join(one_hot_encoded)\n",
        "print(df.head())\n",
        "\n"
      ],
      "metadata": {
        "colab": {
          "base_uri": "https://localhost:8080/"
        },
        "id": "9pmz5MxN8KIb",
        "outputId": "db306b32-0294-4de7-c989-6039578c455c"
      },
      "execution_count": 13,
      "outputs": [
        {
          "output_type": "stream",
          "name": "stdout",
          "text": [
            "       C      Q      S\n",
            "0   True  False  False\n",
            "1  False  False   True\n",
            "2  False  False   True\n",
            "3  False   True  False\n",
            "4   True  False  False\n"
          ]
        }
      ]
    },
    {
      "cell_type": "code",
      "source": [],
      "metadata": {
        "id": "6Xi2qBhZ-SUV"
      },
      "execution_count": null,
      "outputs": []
    },
    {
      "cell_type": "code",
      "source": [
        "print(df.dropna().head())"
      ],
      "metadata": {
        "colab": {
          "base_uri": "https://localhost:8080/"
        },
        "id": "6MX-eeVYfSvS",
        "outputId": "aa46f4bd-e619-448a-9c78-0f855dbaae23"
      },
      "execution_count": null,
      "outputs": [
        {
          "output_type": "stream",
          "name": "stdout",
          "text": [
            "   PassengerId  Survived  Pclass  ...     Fare Cabin  Embarked\n",
            "0          892         0       3  ...   7.8292    76         Q\n",
            "1          893         1       3  ...   7.0000    76         S\n",
            "2          894         0       2  ...   9.6875    76         Q\n",
            "3          895         0       3  ...   8.6625    76         S\n",
            "4          896         1       3  ...  12.2875    76         S\n",
            "\n",
            "[5 rows x 12 columns]\n"
          ]
        }
      ]
    },
    {
      "cell_type": "code",
      "source": [
        "print(df.duplicated().sum())"
      ],
      "metadata": {
        "colab": {
          "base_uri": "https://localhost:8080/"
        },
        "id": "FEq9ckX-f-7q",
        "outputId": "ce0da0e3-3711-440f-c998-a4452ed4b65f"
      },
      "execution_count": null,
      "outputs": [
        {
          "output_type": "stream",
          "name": "stdout",
          "text": [
            "0\n"
          ]
        }
      ]
    }
  ]
}